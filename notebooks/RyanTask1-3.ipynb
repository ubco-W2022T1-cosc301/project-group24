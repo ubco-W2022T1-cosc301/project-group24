{
 "cells": [
  {
   "cell_type": "markdown",
   "metadata": {},
   "source": [
    "### Ryan Grant"
   ]
  },
  {
   "cell_type": "markdown",
   "metadata": {},
   "source": [
    "## Research question/interests\n",
    "\n",
    "As someone in the final years of my Undergraduate degree, I will be soon entering the workforce and very curious about employee attrition. There are some very interesting data in this dataset including how education relates to job involvement, enviroment satisfaction, and work life balance. I would find it very interesting to see how job involvement correlates to work-life balance."
   ]
  },
  {
   "cell_type": "markdown",
   "metadata": {},
   "source": [
    "## Task 1"
   ]
  },
  {
   "cell_type": "code",
   "execution_count": 1,
   "metadata": {},
   "outputs": [
    {
     "data": {
      "text/plain": [
       "Index(['Age', 'Attrition', 'BusinessTravel', 'DailyRate', 'Department',\n",
       "       'DistanceFromHome', 'Education', 'EducationField', 'EmployeeCount',\n",
       "       'EmployeeNumber', 'EnvironmentSatisfaction', 'Gender', 'HourlyRate',\n",
       "       'JobInvolvement', 'JobLevel', 'JobRole', 'JobSatisfaction',\n",
       "       'MaritalStatus', 'MonthlyIncome', 'MonthlyRate', 'NumCompaniesWorked',\n",
       "       'Over18', 'OverTime', 'PercentSalaryHike', 'PerformanceRating',\n",
       "       'RelationshipSatisfaction', 'StandardHours', 'StockOptionLevel',\n",
       "       'TotalWorkingYears', 'TrainingTimesLastYear', 'WorkLifeBalance',\n",
       "       'YearsAtCompany', 'YearsInCurrentRole', 'YearsSinceLastPromotion',\n",
       "       'YearsWithCurrManager'],\n",
       "      dtype='object')"
      ]
     },
     "execution_count": 1,
     "metadata": {},
     "output_type": "execute_result"
    }
   ],
   "source": [
    "import pandas as pd\n",
    "import numpy as np\n",
    "import matplotlib\n",
    "import matplotlib.pyplot as plt\n",
    "import seaborn as sns\n",
    "import missingno\n",
    "\n",
    "dataset = pd.read_csv(\"../data/raw/HR-Employee-Attrition.csv\")\n",
    "dataset.columns\n",
    "\n"
   ]
  },
  {
   "cell_type": "code",
   "execution_count": 2,
   "metadata": {},
   "outputs": [
    {
     "data": {
      "text/plain": [
       "(1470, 35)"
      ]
     },
     "execution_count": 2,
     "metadata": {},
     "output_type": "execute_result"
    }
   ],
   "source": [
    "dataset.shape"
   ]
  },
  {
   "cell_type": "code",
   "execution_count": 3,
   "metadata": {},
   "outputs": [
    {
     "data": {
      "text/html": [
       "<div>\n",
       "<style scoped>\n",
       "    .dataframe tbody tr th:only-of-type {\n",
       "        vertical-align: middle;\n",
       "    }\n",
       "\n",
       "    .dataframe tbody tr th {\n",
       "        vertical-align: top;\n",
       "    }\n",
       "\n",
       "    .dataframe thead th {\n",
       "        text-align: right;\n",
       "    }\n",
       "</style>\n",
       "<table border=\"1\" class=\"dataframe\">\n",
       "  <thead>\n",
       "    <tr style=\"text-align: right;\">\n",
       "      <th></th>\n",
       "      <th>Age</th>\n",
       "      <th>DailyRate</th>\n",
       "      <th>DistanceFromHome</th>\n",
       "      <th>Education</th>\n",
       "      <th>EmployeeCount</th>\n",
       "      <th>EmployeeNumber</th>\n",
       "      <th>EnvironmentSatisfaction</th>\n",
       "      <th>HourlyRate</th>\n",
       "      <th>JobInvolvement</th>\n",
       "      <th>JobLevel</th>\n",
       "      <th>...</th>\n",
       "      <th>RelationshipSatisfaction</th>\n",
       "      <th>StandardHours</th>\n",
       "      <th>StockOptionLevel</th>\n",
       "      <th>TotalWorkingYears</th>\n",
       "      <th>TrainingTimesLastYear</th>\n",
       "      <th>WorkLifeBalance</th>\n",
       "      <th>YearsAtCompany</th>\n",
       "      <th>YearsInCurrentRole</th>\n",
       "      <th>YearsSinceLastPromotion</th>\n",
       "      <th>YearsWithCurrManager</th>\n",
       "    </tr>\n",
       "  </thead>\n",
       "  <tbody>\n",
       "    <tr>\n",
       "      <th>count</th>\n",
       "      <td>1470.000000</td>\n",
       "      <td>1470.000000</td>\n",
       "      <td>1470.000000</td>\n",
       "      <td>1470.000000</td>\n",
       "      <td>1470.000000</td>\n",
       "      <td>1470.000000</td>\n",
       "      <td>1470.000000</td>\n",
       "      <td>1470.000000</td>\n",
       "      <td>1470.000000</td>\n",
       "      <td>1470.000000</td>\n",
       "      <td>...</td>\n",
       "      <td>1470.000000</td>\n",
       "      <td>1470.000000</td>\n",
       "      <td>1470.000000</td>\n",
       "      <td>1470.000000</td>\n",
       "      <td>1470.000000</td>\n",
       "      <td>1470.000000</td>\n",
       "      <td>1470.000000</td>\n",
       "      <td>1470.000000</td>\n",
       "      <td>1470.000000</td>\n",
       "      <td>1470.000000</td>\n",
       "    </tr>\n",
       "    <tr>\n",
       "      <th>mean</th>\n",
       "      <td>36.923810</td>\n",
       "      <td>802.485714</td>\n",
       "      <td>9.192517</td>\n",
       "      <td>2.912925</td>\n",
       "      <td>1.000000</td>\n",
       "      <td>1024.865306</td>\n",
       "      <td>2.721769</td>\n",
       "      <td>65.891156</td>\n",
       "      <td>2.729932</td>\n",
       "      <td>2.063946</td>\n",
       "      <td>...</td>\n",
       "      <td>2.712245</td>\n",
       "      <td>80.000000</td>\n",
       "      <td>0.793878</td>\n",
       "      <td>11.279592</td>\n",
       "      <td>2.799320</td>\n",
       "      <td>2.761224</td>\n",
       "      <td>7.008163</td>\n",
       "      <td>4.229252</td>\n",
       "      <td>2.187755</td>\n",
       "      <td>4.123129</td>\n",
       "    </tr>\n",
       "    <tr>\n",
       "      <th>std</th>\n",
       "      <td>9.135373</td>\n",
       "      <td>403.509100</td>\n",
       "      <td>8.106864</td>\n",
       "      <td>1.024165</td>\n",
       "      <td>0.000000</td>\n",
       "      <td>602.024335</td>\n",
       "      <td>1.093082</td>\n",
       "      <td>20.329428</td>\n",
       "      <td>0.711561</td>\n",
       "      <td>1.106940</td>\n",
       "      <td>...</td>\n",
       "      <td>1.081209</td>\n",
       "      <td>0.000000</td>\n",
       "      <td>0.852077</td>\n",
       "      <td>7.780782</td>\n",
       "      <td>1.289271</td>\n",
       "      <td>0.706476</td>\n",
       "      <td>6.126525</td>\n",
       "      <td>3.623137</td>\n",
       "      <td>3.222430</td>\n",
       "      <td>3.568136</td>\n",
       "    </tr>\n",
       "    <tr>\n",
       "      <th>min</th>\n",
       "      <td>18.000000</td>\n",
       "      <td>102.000000</td>\n",
       "      <td>1.000000</td>\n",
       "      <td>1.000000</td>\n",
       "      <td>1.000000</td>\n",
       "      <td>1.000000</td>\n",
       "      <td>1.000000</td>\n",
       "      <td>30.000000</td>\n",
       "      <td>1.000000</td>\n",
       "      <td>1.000000</td>\n",
       "      <td>...</td>\n",
       "      <td>1.000000</td>\n",
       "      <td>80.000000</td>\n",
       "      <td>0.000000</td>\n",
       "      <td>0.000000</td>\n",
       "      <td>0.000000</td>\n",
       "      <td>1.000000</td>\n",
       "      <td>0.000000</td>\n",
       "      <td>0.000000</td>\n",
       "      <td>0.000000</td>\n",
       "      <td>0.000000</td>\n",
       "    </tr>\n",
       "    <tr>\n",
       "      <th>25%</th>\n",
       "      <td>30.000000</td>\n",
       "      <td>465.000000</td>\n",
       "      <td>2.000000</td>\n",
       "      <td>2.000000</td>\n",
       "      <td>1.000000</td>\n",
       "      <td>491.250000</td>\n",
       "      <td>2.000000</td>\n",
       "      <td>48.000000</td>\n",
       "      <td>2.000000</td>\n",
       "      <td>1.000000</td>\n",
       "      <td>...</td>\n",
       "      <td>2.000000</td>\n",
       "      <td>80.000000</td>\n",
       "      <td>0.000000</td>\n",
       "      <td>6.000000</td>\n",
       "      <td>2.000000</td>\n",
       "      <td>2.000000</td>\n",
       "      <td>3.000000</td>\n",
       "      <td>2.000000</td>\n",
       "      <td>0.000000</td>\n",
       "      <td>2.000000</td>\n",
       "    </tr>\n",
       "    <tr>\n",
       "      <th>50%</th>\n",
       "      <td>36.000000</td>\n",
       "      <td>802.000000</td>\n",
       "      <td>7.000000</td>\n",
       "      <td>3.000000</td>\n",
       "      <td>1.000000</td>\n",
       "      <td>1020.500000</td>\n",
       "      <td>3.000000</td>\n",
       "      <td>66.000000</td>\n",
       "      <td>3.000000</td>\n",
       "      <td>2.000000</td>\n",
       "      <td>...</td>\n",
       "      <td>3.000000</td>\n",
       "      <td>80.000000</td>\n",
       "      <td>1.000000</td>\n",
       "      <td>10.000000</td>\n",
       "      <td>3.000000</td>\n",
       "      <td>3.000000</td>\n",
       "      <td>5.000000</td>\n",
       "      <td>3.000000</td>\n",
       "      <td>1.000000</td>\n",
       "      <td>3.000000</td>\n",
       "    </tr>\n",
       "    <tr>\n",
       "      <th>75%</th>\n",
       "      <td>43.000000</td>\n",
       "      <td>1157.000000</td>\n",
       "      <td>14.000000</td>\n",
       "      <td>4.000000</td>\n",
       "      <td>1.000000</td>\n",
       "      <td>1555.750000</td>\n",
       "      <td>4.000000</td>\n",
       "      <td>83.750000</td>\n",
       "      <td>3.000000</td>\n",
       "      <td>3.000000</td>\n",
       "      <td>...</td>\n",
       "      <td>4.000000</td>\n",
       "      <td>80.000000</td>\n",
       "      <td>1.000000</td>\n",
       "      <td>15.000000</td>\n",
       "      <td>3.000000</td>\n",
       "      <td>3.000000</td>\n",
       "      <td>9.000000</td>\n",
       "      <td>7.000000</td>\n",
       "      <td>3.000000</td>\n",
       "      <td>7.000000</td>\n",
       "    </tr>\n",
       "    <tr>\n",
       "      <th>max</th>\n",
       "      <td>60.000000</td>\n",
       "      <td>1499.000000</td>\n",
       "      <td>29.000000</td>\n",
       "      <td>5.000000</td>\n",
       "      <td>1.000000</td>\n",
       "      <td>2068.000000</td>\n",
       "      <td>4.000000</td>\n",
       "      <td>100.000000</td>\n",
       "      <td>4.000000</td>\n",
       "      <td>5.000000</td>\n",
       "      <td>...</td>\n",
       "      <td>4.000000</td>\n",
       "      <td>80.000000</td>\n",
       "      <td>3.000000</td>\n",
       "      <td>40.000000</td>\n",
       "      <td>6.000000</td>\n",
       "      <td>4.000000</td>\n",
       "      <td>40.000000</td>\n",
       "      <td>18.000000</td>\n",
       "      <td>15.000000</td>\n",
       "      <td>17.000000</td>\n",
       "    </tr>\n",
       "  </tbody>\n",
       "</table>\n",
       "<p>8 rows × 26 columns</p>\n",
       "</div>"
      ],
      "text/plain": [
       "               Age    DailyRate DistanceFromHome    Education EmployeeCount  \\\n",
       "count  1470.000000  1470.000000      1470.000000  1470.000000   1470.000000   \n",
       "mean     36.923810   802.485714         9.192517     2.912925      1.000000   \n",
       "std       9.135373   403.509100         8.106864     1.024165      0.000000   \n",
       "min      18.000000   102.000000         1.000000     1.000000      1.000000   \n",
       "25%      30.000000   465.000000         2.000000     2.000000      1.000000   \n",
       "50%      36.000000   802.000000         7.000000     3.000000      1.000000   \n",
       "75%      43.000000  1157.000000        14.000000     4.000000      1.000000   \n",
       "max      60.000000  1499.000000        29.000000     5.000000      1.000000   \n",
       "\n",
       "      EmployeeNumber EnvironmentSatisfaction   HourlyRate JobInvolvement  \\\n",
       "count    1470.000000             1470.000000  1470.000000    1470.000000   \n",
       "mean     1024.865306                2.721769    65.891156       2.729932   \n",
       "std       602.024335                1.093082    20.329428       0.711561   \n",
       "min         1.000000                1.000000    30.000000       1.000000   \n",
       "25%       491.250000                2.000000    48.000000       2.000000   \n",
       "50%      1020.500000                3.000000    66.000000       3.000000   \n",
       "75%      1555.750000                4.000000    83.750000       3.000000   \n",
       "max      2068.000000                4.000000   100.000000       4.000000   \n",
       "\n",
       "          JobLevel  ... RelationshipSatisfaction StandardHours  \\\n",
       "count  1470.000000  ...              1470.000000   1470.000000   \n",
       "mean      2.063946  ...                 2.712245     80.000000   \n",
       "std       1.106940  ...                 1.081209      0.000000   \n",
       "min       1.000000  ...                 1.000000     80.000000   \n",
       "25%       1.000000  ...                 2.000000     80.000000   \n",
       "50%       2.000000  ...                 3.000000     80.000000   \n",
       "75%       3.000000  ...                 4.000000     80.000000   \n",
       "max       5.000000  ...                 4.000000     80.000000   \n",
       "\n",
       "      StockOptionLevel TotalWorkingYears TrainingTimesLastYear  \\\n",
       "count      1470.000000       1470.000000           1470.000000   \n",
       "mean          0.793878         11.279592              2.799320   \n",
       "std           0.852077          7.780782              1.289271   \n",
       "min           0.000000          0.000000              0.000000   \n",
       "25%           0.000000          6.000000              2.000000   \n",
       "50%           1.000000         10.000000              3.000000   \n",
       "75%           1.000000         15.000000              3.000000   \n",
       "max           3.000000         40.000000              6.000000   \n",
       "\n",
       "      WorkLifeBalance YearsAtCompany YearsInCurrentRole  \\\n",
       "count     1470.000000    1470.000000        1470.000000   \n",
       "mean         2.761224       7.008163           4.229252   \n",
       "std          0.706476       6.126525           3.623137   \n",
       "min          1.000000       0.000000           0.000000   \n",
       "25%          2.000000       3.000000           2.000000   \n",
       "50%          3.000000       5.000000           3.000000   \n",
       "75%          3.000000       9.000000           7.000000   \n",
       "max          4.000000      40.000000          18.000000   \n",
       "\n",
       "      YearsSinceLastPromotion YearsWithCurrManager  \n",
       "count             1470.000000          1470.000000  \n",
       "mean                 2.187755             4.123129  \n",
       "std                  3.222430             3.568136  \n",
       "min                  0.000000             0.000000  \n",
       "25%                  0.000000             2.000000  \n",
       "50%                  1.000000             3.000000  \n",
       "75%                  3.000000             7.000000  \n",
       "max                 15.000000            17.000000  \n",
       "\n",
       "[8 rows x 26 columns]"
      ]
     },
     "execution_count": 3,
     "metadata": {},
     "output_type": "execute_result"
    }
   ],
   "source": [
    "dataset.nunique(axis=0)\n",
    "dataset.describe().apply(lambda s: s.apply(lambda x: format(x, 'f')))"
   ]
  },
  {
   "cell_type": "code",
   "execution_count": 4,
   "metadata": {},
   "outputs": [
    {
     "data": {
      "text/plain": [
       "<AxesSubplot:xlabel='DistanceFromHome', ylabel='YearsAtCompany'>"
      ]
     },
     "execution_count": 4,
     "metadata": {},
     "output_type": "execute_result"
    },
    {
     "data": {
      "image/png": "[encoded data removed]",
      "text/plain": [
       "<Figure size 640x480 with 1 Axes>"
      ]
     },
     "metadata": {},
     "output_type": "display_data"
    }
   ],
   "source": [
    "#This dataset contains no null values, and no initially apparent outlier or duplicate date\n",
    "dataset.plot(kind='scatter', x='DistanceFromHome', y='YearsAtCompany')\n",
    "#in this relation of Distance to home to years at company I would expect to see that a lower distance from home would correlate to more years at the company. While that seems to be somewhat true, the data is far more distributed that I would expect."
   ]
  },
  {
   "cell_type": "code",
   "execution_count": 5,
   "metadata": {},
   "outputs": [
    {
     "data": {
      "text/plain": [
       "<AxesSubplot:xlabel='count', ylabel='GroupedAge'>"
      ]
     },
     "execution_count": 5,
     "metadata": {},
     "output_type": "execute_result"
    },
    {
     "data": {
      "image/png": "[encoded data removed]",
      "text/plain": [
       "<Figure size 640x480 with 1 Axes>"
      ]
     },
     "metadata": {},
     "output_type": "display_data"
    }
   ],
   "source": [
    "dataset[\"GroupedAge\"]= np.nan\n",
    "conditionsAge = [\n",
    "    (dataset['Age'] <= 19),\n",
    "    (dataset['Age'] > 19) & (dataset['Age'] <= 29),\n",
    "    (dataset['Age'] > 29) & (dataset['Age'] <= 39),\n",
    "    (dataset['Age'] > 39) & (dataset['Age'] <= 49),\n",
    "    (dataset['Age'] > 49) & (dataset['Age'] <= 59),\n",
    "    (dataset['Age'] > 59)\n",
    "    ]\n",
    "valuesAge=[\"<19\",\"20-29\",\"30-39\",\"40-49\",\"50-59\",\"60+\"]\n",
    "dataset[\"GroupedAge\"]= np.select(conditionsAge,valuesAge)\n",
    "sns.countplot(data=dataset, y='GroupedAge', hue='JobSatisfaction',order=valuesAge)"
   ]
  },
  {
   "cell_type": "code",
   "execution_count": 6,
   "metadata": {},
   "outputs": [
    {
     "data": {
      "text/plain": [
       "<AxesSubplot:>"
      ]
     },
     "execution_count": 6,
     "metadata": {},
     "output_type": "execute_result"
    },
    {
     "data": {
      "image/png": "[encoded data removed]",
      "text/plain": [
       "<Figure size 640x480 with 1 Axes>"
      ]
     },
     "metadata": {},
     "output_type": "display_data"
    }
   ],
   "source": [
    "dataset.boxplot('Age')\n",
    "#As a quick visiualization for what spread in age was for this dataset I used a boxplot. As seen with the tails the min is 18 and the max is 60. And most of the data falls in the range of 30 to 43."
   ]
  },
  {
   "cell_type": "code",
   "execution_count": 7,
   "metadata": {},
   "outputs": [
    {
     "data": {
      "text/plain": [
       "<AxesSubplot:ylabel='Frequency'>"
      ]
     },
     "execution_count": 7,
     "metadata": {},
     "output_type": "execute_result"
    },
    {
     "data": {
      "image/png": "[encoded data removed]",
      "text/plain": [
       "<Figure size 1200x600 with 1 Axes>"
      ]
     },
     "metadata": {},
     "output_type": "display_data"
    }
   ],
   "source": [
    "dataset['YearsSinceLastPromotion'].plot(kind='hist', bins=16, figsize=(12,6), facecolor='grey',edgecolor='black')\n",
    "# in this data visiualisation I was curious what the frequency of people going many years without a promotion were. It supprised me to see that the vast majority of people had a promotion with the last 0-2 years"
   ]
  },
  {
   "cell_type": "code",
   "execution_count": 8,
   "metadata": {},
   "outputs": [
    {
     "data": {
      "text/plain": [
       "<AxesSubplot:xlabel='count', ylabel='JobInvolvement'>"
      ]
     },
     "execution_count": 8,
     "metadata": {},
     "output_type": "execute_result"
    },
    {
     "data": {
      "image/png": "[encoded data removed]",
      "text/plain": [
       "<Figure size 640x480 with 1 Axes>"
      ]
     },
     "metadata": {},
     "output_type": "display_data"
    }
   ],
   "source": [
    "\n",
    "dataset[\"GroupedIncome\"]= np.nan\n",
    "conditions = [\n",
    "    (dataset[\"MonthlyIncome\"] <= 3000),\n",
    "    (dataset[\"MonthlyIncome\"] > 3000) & (dataset[\"MonthlyIncome\"] <= 6000),\n",
    "    (dataset[\"MonthlyIncome\"] > 6000) & (dataset[\"MonthlyIncome\"] <= 9000),\n",
    "    (dataset[\"MonthlyIncome\"] > 9000) & (dataset[\"MonthlyIncome\"] <= 12000),\n",
    "    (dataset[\"MonthlyIncome\"] > 12000) & (dataset[\"MonthlyIncome\"] <= 15000),\n",
    "    (dataset[\"MonthlyIncome\"] > 15000) & (dataset[\"MonthlyIncome\"] <= 18000),\n",
    "    (dataset[\"MonthlyIncome\"] > 18000)\n",
    "    ]\n",
    "values=[\"<3000\",\"<6000\",\"<9000\",\"<12000\",\"<15000\",\"<18000\",\"+18000\"]\n",
    "dataset[\"GroupedIncome\"]= np.select(conditions,values)\n",
    "sns.countplot(data=dataset, y='JobInvolvement', hue='GroupedIncome')\n",
    "#sns.countplot(data=dataset,x=\"GroupedIncome\",order=values)\n",
    "#dataset.plot(kind='scatter', x='TotalWorkingYears', y='GroupedIncome')\n",
    "#in This relation I was checking the correlation between Monthly Income and Total working years. As I would suspect there is a strong trend between more years worked and monthly income."
   ]
  },
  {
   "cell_type": "markdown",
   "metadata": {},
   "source": [
    "## Task 2"
   ]
  },
  {
   "cell_type": "code",
   "execution_count": 9,
   "metadata": {},
   "outputs": [
    {
     "name": "stdout",
     "output_type": "stream",
     "text": [
      "No null values in dataset\n",
      "No duplicated entries found\n"
     ]
    }
   ],
   "source": [
    "\n",
    "\n",
    "#Step 1 load data\n",
    "dataset = pd.read_csv(\"../data/raw/HR-Employee-Attrition.csv\")\n",
    "#Step 2 process data \n",
    "\n",
    "#remove rows with null values, total rows remains the same therefore there were no null values to begin with\n",
    "if dataset.isnull().any(axis=None):\n",
    "    print(\"\\nPreview of data with null values:\\nxxxxxxxxxxxxx\")\n",
    "    print(dataset[dataset.isnull().any(axis=1)].head(3))\n",
    "    missingno.matrix(dataset)\n",
    "    plt.show()\n",
    "else:\n",
    "    print(\"No null values in dataset\")\n",
    "#remove columns that are not being used\n",
    "dataset.drop(columns=[\"EmployeeCount\",'EmployeeNumber','StandardHours','Over18'])\n",
    "#step 3 process data\n",
    "#set columns as a categorical type\n",
    "dataset['Gender'] = dataset['Gender'].astype('category')\n",
    "dataset['OverTime'] = dataset['OverTime'].astype('category')\n",
    "dataset['MaritalStatus'] = dataset['MaritalStatus'].astype('category')\n",
    "dataset['Attrition'] = dataset['Attrition'].astype('category')\n",
    "dataset['BusinessTravel'] = dataset['BusinessTravel'].astype('category')\n",
    "dataset['Department'] = dataset['Department'].astype('category')\n",
    "dataset['EducationField'] = dataset['EducationField'].astype('category')\n",
    "dataset['Education'] = dataset[\"Education\"].astype(\"category\")\n",
    "dataset['EnvironmentSatisfaction'] = dataset[\"EnvironmentSatisfaction\"].astype(\"category\")\n",
    "dataset['JobInvolvement'] = dataset[\"JobInvolvement\"].astype(\"category\")\n",
    "dataset['JobLevel'] = dataset[\"JobLevel\"].astype(\"category\")\n",
    "dataset['JobRole'] = dataset[\"JobRole\"].astype(\"category\")\n",
    "dataset['JobSatisfaction'] = dataset[\"JobSatisfaction\"].astype(\"category\")\n",
    "dataset['RelationshipSatisfaction'] = dataset[\"RelationshipSatisfaction\"].astype(\"category\")\n",
    "dataset['StockOptionLevel'] = dataset[\"StockOptionLevel\"].astype(\"category\")\n",
    "dataset['WorkLifeBalance'] = dataset[\"WorkLifeBalance\"].astype(\"category\")\n",
    "dataset['PerformanceRating'] = dataset[\"PerformanceRating\"].astype(\"category\")\n",
    "\n",
    "#Then remove duplicate entries\n",
    "if len(dataset[dataset.duplicated()]) > 0:\n",
    "    print(\"No. of duplicated entries: \", len(dataset[dataset.duplicated()]))\n",
    "    print(dataset[dataset.duplicated(keep=False)].sort_values(by=list(dataset.columns)).head())\n",
    "else:\n",
    "    print(\"No duplicated entries found\")\n",
    "#Step 4 Wrangle data"
   ]
  },
  {
   "cell_type": "markdown",
   "metadata": {},
   "source": [
    "## Task 3"
   ]
  },
  {
   "cell_type": "code",
   "execution_count": 10,
   "metadata": {},
   "outputs": [],
   "source": [
    "def load_and_process(dataset):\n",
    "    if dataset.isnull().any(axis=None):\n",
    "        print(\"\\nPreview of data with null values:\\nxxxxxxxxxxxxx\")\n",
    "        print(dataset[dataset.isnull().any(axis=1)].head(3))\n",
    "        missingno.matrix(dataset)\n",
    "        plt.show()\n",
    "    else:\n",
    "        print(\"No null values in dataset\")\n",
    "    dataset.drop(columns=[\"EmployeeCount\",'EmployeeNumber','StandardHours','Over18'])\n",
    "    dataset['Gender'] = dataset['Gender'].astype('category')\n",
    "    dataset['OverTime'] = dataset['OverTime'].astype('category')\n",
    "    dataset['MaritalStatus'] = dataset['MaritalStatus'].astype('category')\n",
    "    dataset['Attrition'] = dataset['Attrition'].astype('category')\n",
    "    dataset['BusinessTravel'] = dataset['BusinessTravel'].astype('category')\n",
    "    dataset['Department'] = dataset['Department'].astype('category')\n",
    "    dataset['EducationField'] = dataset['EducationField'].astype('category')\n",
    "    dataset['Education'] = dataset[\"Education\"].astype(\"category\")\n",
    "    dataset['EnvironmentSatisfaction'] = dataset[\"EnvironmentSatisfaction\"].astype(\"category\")\n",
    "    dataset['JobInvolvement'] = dataset[\"JobInvolvement\"].astype(\"category\")\n",
    "    dataset['JobLevel'] = dataset[\"JobLevel\"].astype(\"category\")\n",
    "    dataset['JobRole'] = dataset[\"JobRole\"].astype(\"category\")\n",
    "    dataset['JobSatisfaction'] = dataset[\"JobSatisfaction\"].astype(\"category\")\n",
    "    dataset['RelationshipSatisfaction'] = dataset[\"RelationshipSatisfaction\"].astype(\"category\")\n",
    "    dataset['StockOptionLevel'] = dataset[\"StockOptionLevel\"].astype(\"category\")\n",
    "    dataset['WorkLifeBalance'] = dataset[\"WorkLifeBalance\"].astype(\"category\")\n",
    "    dataset['PerformanceRating'] = dataset[\"PerformanceRating\"].astype(\"category\")\n",
    "    if len(dataset[dataset.duplicated()]) > 0:\n",
    "        print(\"No. of duplicated entries: \", len(dataset[dataset.duplicated()]))\n",
    "        print(dataset[dataset.duplicated(keep=False)].sort_values(by=list(dataset.columns)).head())\n",
    "    else:\n",
    "        print(\"No duplicated entries found\")\n",
    "    return dataset"
   ]
  }
 ],
 "metadata": {
  "kernelspec": {
   "display_name": "Python 3.9.12 ('base')",
   "language": "python",
   "name": "python3"
  },
  "language_info": {
   "codemirror_mode": {
    "name": "ipython",
    "version": 3
   },
   "file_extension": ".py",
   "mimetype": "text/x-python",
   "name": "python",
   "nbconvert_exporter": "python",
   "pygments_lexer": "ipython3",
   "version": "3.9.12"
  },
  "vscode": {
   "interpreter": {
    "hash": "332ed364d36cbf70072033d4e32e75cf83ffea15adea92843b2737749a09b46a"
   }
  }
 },
 "nbformat": 4,
 "nbformat_minor": 2
}
