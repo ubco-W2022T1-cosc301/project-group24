{
 "cells": [
  {
   "cell_type": "markdown",
   "metadata": {},
   "source": [
    "### Ryan Grant"
   ]
  },
  {
   "cell_type": "markdown",
   "metadata": {},
   "source": [
    "## Research question/interests\n",
    "\n",
    "As someone in the final years of my Undergraduate degree, I will be soon entering the workforce and very curious about employee attrition. There are some very interesting data in this dataset including how education relates to job involvement, enviroment satisfaction, and work life balance. I would find it very interesting to see how job involvement correlates to work-life balance."
   ]
  },
  {
   "cell_type": "code",
   "execution_count": null,
   "metadata": {},
   "outputs": [],
   "source": [
    "import pandas as pd\n",
    "dataset = pd.read_csv(\"../data/raw/HR-Employee-Attrition.csv\")\n",
    "dataset.head()"
   ]
  }
 ],
 "metadata": {
  "kernelspec": {
   "display_name": "Python 3.9.12 ('base')",
   "language": "python",
   "name": "python3"
  },
  "language_info": {
   "name": "python",
   "version": "3.9.12"
  },
  "vscode": {
   "interpreter": {
    "hash": "332ed364d36cbf70072033d4e32e75cf83ffea15adea92843b2737749a09b46a"
   }
  }
 },
 "nbformat": 4,
 "nbformat_minor": 2
}
