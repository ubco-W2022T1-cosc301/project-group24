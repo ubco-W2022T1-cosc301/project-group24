{
 "cells": [
  {
   "cell_type": "code",
   "execution_count": null,
   "metadata": {},
   "outputs": [],
   "source": [
    "import pandas as pd\n",
    "import numpy as np\n",
    "import matplotlib\n",
    "import matplotlib.pyplot as plt\n",
    "import seaborn as sns\n",
    "import missingno\n",
    "\n",
    "def load_and_process(dataset):\n",
    "    if dataset.isnull().any(axis=None):\n",
    "        print(\"\\nPreview of data with null values:\\nxxxxxxxxxxxxx\")\n",
    "        print(dataset[dataset.isnull().any(axis=1)].head(3))\n",
    "        missingno.matrix(dataset)\n",
    "        plt.show()\n",
    "    else:\n",
    "        print(\"No null values in dataset\")\n",
    "    dataset.drop(columns=[\"EmployeeCount\",'EmployeeNumber','StandardHours','Over18'])\n",
    "    dataset['Gender'] = dataset['Gender'].astype('category')\n",
    "    dataset['OverTime'] = dataset['OverTime'].astype('category')\n",
    "    dataset['MaritalStatus'] = dataset['MaritalStatus'].astype('category')\n",
    "    dataset['Attrition'] = dataset['Attrition'].astype('category')\n",
    "    dataset['BusinessTravel'] = dataset['BusinessTravel'].astype('category')\n",
    "    dataset['Department'] = dataset['Department'].astype('category')\n",
    "    dataset['EducationField'] = dataset['EducationField'].astype('category')\n",
    "    dataset['Education'] = dataset[\"Education\"].astype(\"category\")\n",
    "    dataset['EnvironmentSatisfaction'] = dataset[\"EnvironmentSatisfaction\"].astype(\"category\")\n",
    "    dataset['JobInvolvement'] = dataset[\"JobInvolvement\"].astype(\"category\")\n",
    "    dataset['JobLevel'] = dataset[\"JobLevel\"].astype(\"category\")\n",
    "    dataset['JobRole'] = dataset[\"JobRole\"].astype(\"category\")\n",
    "    dataset['JobSatisfaction'] = dataset[\"JobSatisfaction\"].astype(\"category\")\n",
    "    dataset['RelationshipSatisfaction'] = dataset[\"RelationshipSatisfaction\"].astype(\"category\")\n",
    "    dataset['StockOptionLevel'] = dataset[\"StockOptionLevel\"].astype(\"category\")\n",
    "    dataset['WorkLifeBalance'] = dataset[\"WorkLifeBalance\"].astype(\"category\")\n",
    "    dataset['PerformanceRating'] = dataset[\"PerformanceRating\"].astype(\"category\")\n",
    "    if len(dataset[dataset.duplicated()]) > 0:\n",
    "        print(\"No. of duplicated entries: \", len(dataset[dataset.duplicated()]))\n",
    "        print(dataset[dataset.duplicated(keep=False)].sort_values(by=list(dataset.columns)).head())\n",
    "    else:\n",
    "        print(\"No duplicated entries found\")\n",
    "    return dataset"
   ]
  }
 ],
 "metadata": {
  "kernelspec": {
   "display_name": "Python 3.9.12 ('base')",
   "language": "python",
   "name": "python3"
  }
 },
 "nbformat": 4,
 "nbformat_minor": 2
}
