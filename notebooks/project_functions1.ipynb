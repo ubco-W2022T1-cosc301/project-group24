{
 "cells": [
  {
   "cell_type": "code",
   "execution_count": null,
   "metadata": {},
   "outputs": [],
   "source": [
    "import pandas as pd\n",
    "import numpy as np\n",
    "import matplotlib\n",
    "import matplotlib.pyplot as plt\n",
    "import seaborn as sns\n",
    "import missingno\n",
    "def load_and_process(url_or_path_to_csv_file):\n",
    "    \n",
    "\n",
    "    # Method Chain 1 (Load data and deal with missing data)\n",
    "\n",
    "    df1 = (\n",
    "          pd.read_csv(url_or_path_to_csv_file)\n",
    "          .dropna(axis='columns')\n",
    "          .isnull().any(axis=1)\n",
    "      )\n",
    "\n",
    "    # Method Chain 2 (Create new columns, drop others, and do processing)\n",
    "\n",
    "    df2 = (\n",
    "          df1\n",
    "            .drop(columns=[\"EmployeeCount\",'EmployeeNumber','StandardHours','Over18'])\n",
    "            \n",
    "      )\n",
    "\n",
    "    # Make sure to return the latest dataframe\n",
    "    return df2 \n"
   ]
  }
 ],
 "metadata": {
  "kernelspec": {
   "display_name": "Python 3.9.12 ('base')",
   "language": "python",
   "name": "python3"
  },
  "language_info": {
   "name": "python",
   "version": "3.9.12"
  },
  "orig_nbformat": 4,
  "vscode": {
   "interpreter": {
    "hash": "332ed364d36cbf70072033d4e32e75cf83ffea15adea92843b2737749a09b46a"
   }
  }
 },
 "nbformat": 4,
 "nbformat_minor": 2
}
