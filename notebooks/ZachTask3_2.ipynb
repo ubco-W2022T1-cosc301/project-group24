{
 "cells": [
  {
   "cell_type": "code",
   "execution_count": null,
   "id": "982a7ed6-993d-4043-b82b-e5ce230ba687",
   "metadata": {},
   "outputs": [
    {
     "ename": "NameError",
     "evalue": "name 'SecondEda' is not defined",
     "output_type": "error",
     "traceback": [
      "\u001b[1;31m---------------------------------------------------------------------------\u001b[0m",
      "\u001b[1;31mNameError\u001b[0m                                 Traceback (most recent call last)",
      "Input \u001b[1;32mIn [32]\u001b[0m, in \u001b[0;36m<cell line: 8>\u001b[1;34m()\u001b[0m\n\u001b[0;32m      6\u001b[0m \u001b[38;5;28;01mfrom\u001b[39;00m \u001b[38;5;21;01mprojectfunctions2\u001b[39;00m \u001b[38;5;28;01mimport\u001b[39;00m \u001b[38;5;241m*\u001b[39m\n\u001b[0;32m      7\u001b[0m df \u001b[38;5;241m=\u001b[39m load_and_process(\u001b[38;5;124m\"\u001b[39m\u001b[38;5;124m../data/raw/HR-Employee-Attrition.csv\u001b[39m\u001b[38;5;124m\"\u001b[39m)\n\u001b[1;32m----> 8\u001b[0m \u001b[43mSecondEda\u001b[49m(df)\n",
      "\u001b[1;31mNameError\u001b[0m: name 'SecondEda' is not defined"
     ]
    }
   ],
   "source": [
    "import pandas as pd\n",
    "import numpy as np\n",
    "import matplotlib.pylab as plt\n",
    "import seaborn as sns\n",
    "\n",
    "from projectfunctions2 import *\n",
    "df = load_and_process(\"../data/raw/HR-Employee-Attrition.csv\")\n",
    "SecondEda(df)"
   ]
  },
  {
   "cell_type": "code",
   "execution_count": null,
   "id": "0c6f0136-85a1-4f57-bc9b-10fcc36ff1bb",
   "metadata": {},
   "outputs": [],
   "source": []
  },
  {
   "cell_type": "code",
   "execution_count": null,
   "id": "55a25580-9adf-4c28-a606-8de084c7217e",
   "metadata": {},
   "outputs": [],
   "source": []
  },
  {
   "cell_type": "code",
   "execution_count": null,
   "id": "c8414dca-c9ed-4615-bdaf-97c481c5e29b",
   "metadata": {},
   "outputs": [],
   "source": []
  },
  {
   "cell_type": "code",
   "execution_count": null,
   "id": "841c8c29-741b-4026-a3ed-f6f76d4169f1",
   "metadata": {},
   "outputs": [],
   "source": []
  }
 ],
 "metadata": {
  "kernelspec": {
   "display_name": "Python 3 (ipykernel)",
   "language": "python",
   "name": "python3"
  }
 },
 "nbformat": 4,
 "nbformat_minor": 5
}
