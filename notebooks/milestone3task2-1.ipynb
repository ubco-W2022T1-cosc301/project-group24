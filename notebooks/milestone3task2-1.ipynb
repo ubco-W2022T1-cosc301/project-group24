{
 "cells": [
  {
   "cell_type": "code",
   "execution_count": 1,
   "metadata": {},
   "outputs": [
    {
     "name": "stdout",
     "output_type": "stream",
     "text": [
      "No null values in dataset\n",
      "No duplicated entries found\n"
     ]
    }
   ],
   "source": [
    "import pandas as pd\n",
    "import numpy as np\n",
    "import matplotlib\n",
    "import matplotlib.pyplot as plt\n",
    "import seaborn as sns\n",
    "import missingno\n",
    "\n",
    "\n",
    "#Step 1 load data\n",
    "dataset = pd.read_csv(\"../data/raw/HR-Employee-Attrition.csv\")\n",
    "#Step 2 process data \n",
    "\n",
    "#remove rows with null values, total rows remains the same therefore there were no null values to begin with\n",
    "if dataset.isnull().any(axis=None):\n",
    "    print(\"\\nPreview of data with null values:\\nxxxxxxxxxxxxx\")\n",
    "    print(dataset[dataset.isnull().any(axis=1)].head(3))\n",
    "    missingno.matrix(dataset)\n",
    "    plt.show()\n",
    "else:\n",
    "    print(\"No null values in dataset\")\n",
    "#remove columns that are not being used\n",
    "dataset.drop(columns=[\"EmployeeCount\",'EmployeeNumber','StandardHours','Over18'])\n",
    "#step 3 process data\n",
    "#set columns as a categorical type\n",
    "dataset['Gender'] = dataset['Gender'].astype('category')\n",
    "dataset['OverTime'] = dataset['OverTime'].astype('category')\n",
    "dataset['MaritalStatus'] = dataset['MaritalStatus'].astype('category')\n",
    "dataset['Attrition'] = dataset['Attrition'].astype('category')\n",
    "dataset['BusinessTravel'] = dataset['BusinessTravel'].astype('category')\n",
    "dataset['Department'] = dataset['Department'].astype('category')\n",
    "dataset['EducationField'] = dataset['EducationField'].astype('category')\n",
    "dataset['Education'] = dataset[\"Education\"].astype(\"category\")\n",
    "dataset['EnvironmentSatisfaction'] = dataset[\"EnvironmentSatisfaction\"].astype(\"category\")\n",
    "dataset['JobInvolvement'] = dataset[\"JobInvolvement\"].astype(\"category\")\n",
    "dataset['JobLevel'] = dataset[\"JobLevel\"].astype(\"category\")\n",
    "dataset['JobRole'] = dataset[\"JobRole\"].astype(\"category\")\n",
    "dataset['JobSatisfaction'] = dataset[\"JobSatisfaction\"].astype(\"category\")\n",
    "dataset['RelationshipSatisfaction'] = dataset[\"RelationshipSatisfaction\"].astype(\"category\")\n",
    "dataset['StockOptionLevel'] = dataset[\"StockOptionLevel\"].astype(\"category\")\n",
    "dataset['WorkLifeBalance'] = dataset[\"WorkLifeBalance\"].astype(\"category\")\n",
    "dataset['PerformanceRating'] = dataset[\"PerformanceRating\"].astype(\"category\")\n",
    "\n",
    "#Then remove duplicate entries\n",
    "if len(dataset[dataset.duplicated()]) > 0:\n",
    "    print(\"No. of duplicated entries: \", len(dataset[dataset.duplicated()]))\n",
    "    print(dataset[dataset.duplicated(keep=False)].sort_values(by=list(dataset.columns)).head())\n",
    "else:\n",
    "    print(\"No duplicated entries found\")\n",
    "#Step 4 Wrangle data"
   ]
  }
 ],
 "metadata": {
  "kernelspec": {
   "display_name": "Python 3.9.12 ('base')",
   "language": "python",
   "name": "python3"
  },
  "language_info": {
   "codemirror_mode": {
    "name": "ipython",
    "version": 3
   },
   "file_extension": ".py",
   "mimetype": "text/x-python",
   "name": "python",
   "nbconvert_exporter": "python",
   "pygments_lexer": "ipython3",
   "version": "3.9.12"
  },
  "orig_nbformat": 4,
  "vscode": {
   "interpreter": {
    "hash": "332ed364d36cbf70072033d4e32e75cf83ffea15adea92843b2737749a09b46a"
   }
  }
 },
 "nbformat": 4,
 "nbformat_minor": 2
}
